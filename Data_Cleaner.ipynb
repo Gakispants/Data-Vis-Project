{
  "nbformat": 4,
  "nbformat_minor": 0,
  "metadata": {
    "colab": {
      "provenance": [],
      "authorship_tag": "ABX9TyMtek9QLOwHeCtXlHQGyi2g",
      "include_colab_link": true
    },
    "kernelspec": {
      "name": "python3",
      "display_name": "Python 3"
    },
    "language_info": {
      "name": "python"
    }
  },
  "cells": [
    {
      "cell_type": "markdown",
      "metadata": {
        "id": "view-in-github",
        "colab_type": "text"
      },
      "source": [
        "<a href=\"https://colab.research.google.com/github/Gakispants/Data-Vis-Project/blob/main/Data_Cleaner.ipynb\" target=\"_parent\"><img src=\"https://colab.research.google.com/assets/colab-badge.svg\" alt=\"Open In Colab\"/></a>"
      ]
    },
    {
      "cell_type": "code",
      "source": [
        "import pandas as pd\n",
        "\n",
        "# Step 1: Set the correct file path for your uploaded CSV\n",
        "file_path = '/content/sample_data/OECD_FOOD SUPLY AND CONSUMPTION.csv'\n",
        "\n",
        "# Step 2: Load the CSV file into pandas\n",
        "data = pd.read_csv(file_path)\n",
        "\n",
        "# Step 3: Drop unnecessary columns\n",
        "columns_to_drop = ['STRUCTURE', 'STRUCTURE_ID', 'ACTION', 'FREQ', 'Frequency of observation',\n",
        "                   'AGE', 'Age', 'SEX', 'Sex', 'UNIT_MEASURE', 'Unit of measure',\n",
        "                   'METHODOLOGY', 'Measurement method', 'Time period',\n",
        "                   'Observation value', 'OBS_STATUS', 'Observation status',\n",
        "                   'Unit multiplier', 'DECIMALS', 'Decimals']\n",
        "\n",
        "cleaned_data = data.drop(columns=columns_to_drop)\n",
        "\n",
        "# Step 4: Rename columns for consistency\n",
        "cleaned_data = cleaned_data.rename(columns={\n",
        "    'REF_AREA': 'Reference Area',\n",
        "    'MEASURE': 'Measure Code',\n",
        "    'Measure': 'Measure',\n",
        "    'TIME_PERIOD': 'Year',\n",
        "    'OBS_VALUE': 'Observation Value',\n",
        "    'UNIT_MULT': 'Unit Multiplier'\n",
        "})\n",
        "\n",
        "# Step 5: Remove duplicate rows\n",
        "cleaned_data = cleaned_data.drop_duplicates()\n",
        "\n",
        "# Step 6: Fill missing values (optional)\n",
        "cleaned_data.fillna(0, inplace=True)\n",
        "\n",
        "# Step 7: Save the cleaned dataset to a CSV file\n",
        "cleaned_file_path = '/content/cleaned_OECD_food_supply_and_consumption.csv'\n",
        "cleaned_data.to_csv(cleaned_file_path, index=False)\n",
        "\n",
        "print(f\"Cleaned data has been saved to: {cleaned_file_path}\")\n"
      ],
      "metadata": {
        "colab": {
          "base_uri": "https://localhost:8080/"
        },
        "id": "Gw5iBkhraa3c",
        "outputId": "eaafca9f-59a8-4afd-e12d-4ea8b69ced78"
      },
      "execution_count": 8,
      "outputs": [
        {
          "output_type": "stream",
          "name": "stdout",
          "text": [
            "Cleaned data has been saved to: /content/cleaned_OECD_food_supply_and_consumption.csv\n"
          ]
        }
      ]
    },
    {
      "cell_type": "markdown",
      "source": [],
      "metadata": {
        "id": "skMOSF-qbp4v"
      }
    },
    {
      "cell_type": "code",
      "source": [],
      "metadata": {
        "id": "AY-I_V4AbrGL"
      },
      "execution_count": null,
      "outputs": []
    },
    {
      "cell_type": "code",
      "execution_count": null,
      "metadata": {
        "id": "1IWA96UcZn6v"
      },
      "outputs": [],
      "source": []
    }
  ]
}